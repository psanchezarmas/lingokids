{
 "cells": [
  {
   "cell_type": "code",
   "execution_count": 0,
   "metadata": {
    "application/vnd.databricks.v1+cell": {
     "cellMetadata": {
      "byteLimit": 2048000,
      "rowLimit": 10000
     },
     "inputWidgets": {},
     "nuid": "2614dc9c-684b-405b-bcce-8655e7f6c216",
     "showTitle": false,
     "tableResultSettingsMap": {},
     "title": ""
    }
   },
   "outputs": [],
   "source": [
    "# Databricks / PySpark script: Date Dimension Table (2015–2030)\n",
    "# Fixed Arrow type issue by converting int32 → int64 before Spark conversion\n",
    "\n",
    "from pyspark.sql import SparkSession\n",
    "import pandas as pd\n",
    "from datetime import datetime\n",
    "import numpy as np\n",
    "\n",
    "# Initialize Spark\n",
    "spark = SparkSession.builder.appName(\"DateDimension\").getOrCreate()\n",
    "\n",
    "# --- Step 1: Generate date range ---\n",
    "start_date = datetime(2015, 1, 1)\n",
    "end_date = datetime(2030, 12, 31)\n",
    "dates = pd.date_range(start=start_date, end=end_date, freq='D')\n",
    "\n",
    "# --- Step 2: Build Pandas DataFrame with date attributes ---\n",
    "df = pd.DataFrame({\"date\": dates})\n",
    "\n",
    "df[\"date_key\"] = df[\"date\"].dt.strftime(\"%Y%m%d\").astype(np.int64)\n",
    "df[\"year\"] = df[\"date\"].dt.year.astype(np.int64)\n",
    "df[\"quarter\"] = df[\"date\"].dt.quarter.astype(np.int64)\n",
    "df[\"month\"] = df[\"date\"].dt.month.astype(np.int64)\n",
    "df[\"month_name\"] = df[\"date\"].dt.month_name()\n",
    "df[\"day\"] = df[\"date\"].dt.day.astype(np.int64)\n",
    "df[\"day_name\"] = df[\"date\"].dt.day_name()\n",
    "df[\"day_of_week\"] = (df[\"date\"].dt.weekday + 1).astype(np.int64)  # Monday=1\n",
    "df[\"week_of_year\"] = df[\"date\"].dt.isocalendar().week.astype(np.int64)\n",
    "df[\"day_of_year\"] = df[\"date\"].dt.day_of_year.astype(np.int64)\n",
    "df[\"is_weekend\"] = df[\"day_of_week\"].isin([6, 7])\n",
    "df[\"is_leap_year\"] = df[\"date\"].dt.is_leap_year\n",
    "\n",
    "# Fiscal calendar (FY starts in April)\n",
    "df[\"fiscal_year\"] = np.where(df[\"month\"] >= 4, df[\"year\"] + 1, df[\"year\"]).astype(np.int64)\n",
    "df[\"fiscal_quarter\"] = (((df[\"month\"] - 4) % 12) // 3 + 1).astype(np.int64)\n",
    "\n",
    "# --- Step 3: Convert to Spark DataFrame (safe types) ---\n",
    "df_dates = spark.createDataFrame(df)\n",
    "\n",
    "# --- Step 4: Save as Delta table ---\n",
    "df_dates.write.format(\"delta\").mode(\"overwrite\").saveAsTable(\"lingokids.silver.dim_date\")\n",
    "\n",
    "# --- Step 5: Preview ---\n",
    "df_dates.show(10, truncate=False)\n"
   ]
  }
 ],
 "metadata": {
  "application/vnd.databricks.v1+notebook": {
   "computePreferences": null,
   "dashboards": [],
   "environmentMetadata": {
    "base_environment": "",
    "environment_version": "3"
   },
   "inputWidgetPreferences": null,
   "language": "python",
   "notebookMetadata": {
    "pythonIndentUnit": 4
   },
   "notebookName": "dates_silver",
   "widgets": {}
  },
  "language_info": {
   "name": "python"
  }
 },
 "nbformat": 4,
 "nbformat_minor": 0
}
