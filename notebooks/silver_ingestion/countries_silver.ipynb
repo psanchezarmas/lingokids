{
 "cells": [
  {
   "cell_type": "code",
   "execution_count": 0,
   "metadata": {
    "application/vnd.databricks.v1+cell": {
     "cellMetadata": {
      "byteLimit": 2048000,
      "rowLimit": 10000
     },
     "inputWidgets": {},
     "nuid": "b95686d9-e97d-4ad4-be5d-af666941a270",
     "showTitle": false,
     "tableResultSettingsMap": {},
     "title": ""
    }
   },
   "outputs": [],
   "source": [
    "pip install pycountry\n"
   ]
  },
  {
   "cell_type": "code",
   "execution_count": 0,
   "metadata": {
    "application/vnd.databricks.v1+cell": {
     "cellMetadata": {
      "byteLimit": 2048000,
      "rowLimit": 10000
     },
     "inputWidgets": {},
     "nuid": "db137bbc-65d4-4ac4-8de3-acdc617785bd",
     "showTitle": false,
     "tableResultSettingsMap": {},
     "title": ""
    }
   },
   "outputs": [],
   "source": [
    "pip install pycountry_convert"
   ]
  },
  {
   "cell_type": "code",
   "execution_count": 0,
   "metadata": {
    "application/vnd.databricks.v1+cell": {
     "cellMetadata": {
      "byteLimit": 2048000,
      "rowLimit": 10000
     },
     "inputWidgets": {},
     "nuid": "8670c29a-4663-48a0-9d46-9f06d1a85e6d",
     "showTitle": false,
     "tableResultSettingsMap": {},
     "title": ""
    }
   },
   "outputs": [],
   "source": [
    "# Includes: country name, ISO codes, continent, timezone, and official language\n",
    "\n",
    "from pyspark.sql import SparkSession\n",
    "import pandas as pd\n",
    "import pycountry\n",
    "import pytz\n",
    "from pycountry_convert import (\n",
    "    country_alpha2_to_continent_code,\n",
    "    convert_continent_code_to_continent_name\n",
    ")\n",
    "\n",
    "# Initialize Spark\n",
    "spark = SparkSession.builder.appName(\"CountryDimension\").getOrCreate()\n",
    "\n",
    "# --- Step 1: Country → Language mapping ---\n",
    "# Source: UN official languages + Wikipedia (simplified main languages)\n",
    "country_language_map = {\n",
    "    \"US\": \"English\", \"IN\": \"Hindi, English\", \"PH\": \"Filipino, English\", \"MX\": \"Spanish\",\n",
    "    \"BR\": \"Portuguese\", \"TR\": \"Turkish\", \"MY\": \"Malay\", \"CO\": \"Spanish\", \"SA\": \"Arabic\",\n",
    "    \"TH\": \"Thai\", \"CN\": \"Mandarin Chinese\", \"JP\": \"Japanese\", \"KR\": \"Korean\", \"FR\": \"French\",\n",
    "    \"DE\": \"German\", \"ES\": \"Spanish\", \"IT\": \"Italian\", \"CA\": \"English, French\", \"GB\": \"English\",\n",
    "    \"AU\": \"English\", \"NZ\": \"English, Māori\", \"NG\": \"English\", \"ZA\": \"Zulu, English, Afrikaans\",\n",
    "    \"EG\": \"Arabic\", \"PK\": \"Urdu, English\", \"ID\": \"Indonesian\", \"RU\": \"Russian\", \"VN\": \"Vietnamese\",\n",
    "    \"IR\": \"Persian (Farsi)\", \"AR\": \"Spanish\", \"CL\": \"Spanish\", \"PE\": \"Spanish\", \"NL\": \"Dutch\",\n",
    "    \"SE\": \"Swedish\", \"NO\": \"Norwegian\", \"DK\": \"Danish\", \"FI\": \"Finnish\", \"PL\": \"Polish\",\n",
    "    \"UA\": \"Ukrainian\", \"BD\": \"Bengali\", \"NP\": \"Nepali\", \"LK\": \"Sinhala, Tamil\", \"SG\": \"English, Malay, Mandarin, Tamil\",\n",
    "    \"AE\": \"Arabic\", \"QA\": \"Arabic\", \"KW\": \"Arabic\", \"OM\": \"Arabic\", \"BH\": \"Arabic\",\n",
    "    \"KE\": \"Swahili, English\", \"TZ\": \"Swahili, English\", \"UG\": \"English, Swahili\", \"GH\": \"English\",\n",
    "    \"ET\": \"Amharic\", \"SD\": \"Arabic, English\", \"DZ\": \"Arabic\", \"MA\": \"Arabic\", \"TN\": \"Arabic\",\n",
    "    \"IL\": \"Hebrew, Arabic\", \"CN\": \"Mandarin Chinese\", \"HK\": \"Chinese, English\", \"TW\": \"Mandarin Chinese\",\n",
    "    \"KR\": \"Korean\", \"LA\": \"Lao\", \"KH\": \"Khmer\", \"MM\": \"Burmese\", \"MN\": \"Mongolian\", \"AF\": \"Dari, Pashto\"\n",
    "}\n",
    "\n",
    "# --- Step 2: Build complete list of all countries ---\n",
    "countries_data = []\n",
    "for c in pycountry.countries:\n",
    "    alpha2 = c.alpha_2\n",
    "    alpha3 = getattr(c, \"alpha_3\", None)\n",
    "    name = c.name\n",
    "\n",
    "    # Continent\n",
    "    try:\n",
    "        continent_code = country_alpha2_to_continent_code(alpha2)\n",
    "        continent = convert_continent_code_to_continent_name(continent_code)\n",
    "    except:\n",
    "        continent = None\n",
    "\n",
    "    # Timezone\n",
    "    try:\n",
    "        timezone = pytz.country_timezones[alpha2][0]\n",
    "    except:\n",
    "        timezone = \"UTC\"\n",
    "\n",
    "    # National Language\n",
    "    language = country_language_map.get(alpha2, \"Unknown\")\n",
    "\n",
    "    countries_data.append({\n",
    "        \"country_name\": name,\n",
    "        \"country_code\": alpha2.lower(),\n",
    "        \"country_alpha3\": alpha3,\n",
    "        \"continent\": continent,\n",
    "        \"timezone\": timezone,\n",
    "        \"language\": language\n",
    "    })\n",
    "\n",
    "# --- Step 3: Convert to Spark DataFrame ---\n",
    "df_countries = spark.createDataFrame(pd.DataFrame(countries_data))\n",
    "\n",
    "# --- Step 4: Preview ---\n",
    "df_countries.orderBy(\"country_name\").show(20, truncate=False)\n",
    "\n",
    "# --- Step 5: Save as Delta Table (persistent dimensional table) ---\n",
    "df_countries.write.format(\"delta\").mode(\"overwrite\").saveAsTable(\"lingokids.silver.dim_country\")\n"
   ]
  }
 ],
 "metadata": {
  "application/vnd.databricks.v1+notebook": {
   "computePreferences": null,
   "dashboards": [],
   "environmentMetadata": {
    "base_environment": "",
    "environment_version": "3"
   },
   "inputWidgetPreferences": null,
   "language": "python",
   "notebookMetadata": {
    "pythonIndentUnit": 4
   },
   "notebookName": "countries_silver",
   "widgets": {}
  },
  "language_info": {
   "name": "python"
  }
 },
 "nbformat": 4,
 "nbformat_minor": 0
}
