{
 "cells": [
  {
   "cell_type": "code",
   "execution_count": 0,
   "metadata": {
    "application/vnd.databricks.v1+cell": {
     "cellMetadata": {
      "byteLimit": 2048000,
      "rowLimit": 10000
     },
     "inputWidgets": {},
     "nuid": "d8751dea-908f-4b41-bf16-21ac099e1119",
     "showTitle": false,
     "tableResultSettingsMap": {},
     "title": ""
    }
   },
   "outputs": [],
   "source": [
    "### The Challenge\n",
    "\n",
    "# Your task is to process the input raw data and generate an output that can be used to analyse some engagement metrics. In particular, with the output you will generate, we want to be able to measure:\n",
    "\n",
    "# - the number of activities played\n",
    "# - the time spent playing\n",
    "# - the most played activities, both in terms of number of times and total duration\n",
    "# - the completion rate of activities\n",
    "\n",
    "# On top of that:\n",
    "\n",
    "# - we want to be able to analyse data at daily, weekly, monthly and yearly granularity.\n",
    "# - we want to be able to slice the data by several dimensions:\n",
    "#   - country\n",
    "#   - OS of the device (type and version) and App version\n",
    "#   - subscription status: free, trial, subscribed, lapsed\n",
    "#   - activity type and collection\n",
    "# - we are not interested in being able to analyse every single event or the behaviour of individual users.\n",
    "\n"
   ]
  },
  {
   "cell_type": "code",
   "execution_count": 0,
   "metadata": {
    "application/vnd.databricks.v1+cell": {
     "cellMetadata": {
      "byteLimit": 2048000,
      "rowLimit": 10000
     },
     "inputWidgets": {},
     "nuid": "8518e0c7-1a70-4ddc-9f35-f9aa03927885",
     "showTitle": false,
     "tableResultSettingsMap": {},
     "title": ""
    }
   },
   "outputs": [],
   "source": [
    "from pyspark.sql import functions as F\n",
    "from datetime import datetime\n",
    "\n",
    "# Load silver tables\n",
    "events_data_df = spark.table(\"lingokids.silver.events_data\")\n",
    "activities_df = spark.table(\"lingokids.silver.activities\")\n",
    "events_df = spark.table(\"lingokids.silver.events\")\n",
    "dim_date_df = spark.table(\"lingokids.silver.dim_date\")\n",
    "events_context_df = spark.table(\"lingokids.silver.events_context\")\n",
    "users_df = spark.table(\"lingokids.silver.users\")\n",
    "dim_country_df = spark.table(\"lingokids.silver.dim_country\")\n",
    "\n",
    "# Joins (matching your SQL)\n",
    "joined_df = (\n",
    "    events_data_df\n",
    "    .join(activities_df, \"activity_id\", \"left\")\n",
    "    .join(events_df, \"event_id\", \"inner\")\n",
    "    .join(dim_date_df, events_df.date_key == dim_date_df.date_key, \"inner\")\n",
    "    .join(events_context_df, \"event_id\", \"left\")\n",
    "    .join(users_df, events_df.user_id == users_df.user_id, \"left\")\n",
    "    .join(dim_country_df, users_df.country_code == dim_country_df.country_code, \"left\")\n",
    ")\n",
    "\n",
    "# Aggregation\n",
    "aggregated_df = (\n",
    "    joined_df.groupBy(\n",
    "        dim_date_df.date,\n",
    "        dim_date_df.quarter,\n",
    "        dim_date_df.year,\n",
    "        events_data_df.activity_id,\n",
    "        activities_df.name.alias(\"activity_name\"),\n",
    "        events_context_df.os_name,\n",
    "        dim_country_df.country_name\n",
    "    )\n",
    "    .agg(\n",
    "        F.sum(F.when(F.col(\"completed\") == False, 1).otherwise(0)).alias(\"number_incomplete_plays\"),\n",
    "        F.count(\"event_id\").alias(\"number_plays_activity\"),\n",
    "        F.sum(\"duration\").alias(\"sum_duration\")\n",
    "    )\n",
    ")\n",
    "\n",
    "# Add updated_at timestamp\n",
    "aggregated_df = aggregated_df.withColumn(\"updated_at\", F.lit(datetime.utcnow()))\n",
    "\n",
    "# Write to Gold (overwrite mode) We don't append as we just regenerate the whole dashboard each time. In case we need to track the changes, then we would append\n",
    "(\n",
    "    aggregated_df.write\n",
    "    .format(\"delta\")\n",
    "    .mode(\"overwrite\")\n",
    "    .saveAsTable(\"lingokids.gold.dashboard\")\n",
    ")\n",
    "\n"
   ]
  },
  {
   "cell_type": "code",
   "execution_count": 0,
   "metadata": {
    "application/vnd.databricks.v1+cell": {
     "cellMetadata": {
      "byteLimit": 2048000,
      "implicitDf": true,
      "rowLimit": 10000
     },
     "inputWidgets": {},
     "nuid": "254061ea-c419-4259-b247-4e2de98b97f0",
     "showTitle": false,
     "tableResultSettingsMap": {
      "0": {
       "dataGridStateBlob": "{\"version\":1,\"tableState\":{\"columnPinning\":{\"left\":[\"#row_number#\"],\"right\":[]},\"columnSizing\":{},\"columnVisibility\":{}},\"settings\":{\"columns\":{}},\"syncTimestamp\":1759749020405}",
       "filterBlob": null,
       "queryPlanFiltersBlob": null,
       "tableResultIndex": 0
      }
     },
     "title": ""
    }
   },
   "outputs": [],
   "source": [
    "# %sql\n",
    "# select \n",
    "#   dim_date.date,\n",
    "#   dim_date.quarter,\n",
    "#   dim_date.year,\n",
    "#   events_data.activity_id,\n",
    "#   activities.name as activity_name,\n",
    "#   events_context.os_name,\n",
    "#   dim_country.country_name,\n",
    "# --  count(distinct events_data.activity_id) as number_of_activities_played,\n",
    "#   sum(CASE WHEN events_data.completed = false THEN 1 else 0 END) AS number_incomplete_plays,\n",
    "#   count(events_data.event_id) as number_plays_activity,\n",
    "#   sum(duration)\n",
    "# from lingokids.silver.events_data \n",
    "# left join lingokids.silver.activities \n",
    "#    on events_data.activity_id = activities.activity_id\n",
    "# inner join lingokids.silver.events\n",
    "#    on events_data.event_id = events.event_id\n",
    "# inner join lingokids.silver.dim_date\n",
    "#    on events.date_key = dim_date.date_key\n",
    "# left join lingokids.silver.events_context\n",
    "#    on events_data.event_id = events_context.event_id\n",
    "# left join lingokids.silver.users\n",
    "#    on users.user_id = events.user_id\n",
    "# left join lingokids.silver.dim_country\n",
    "#    on users.country_code = dim_country.country_code\n",
    "# group by  dim_date.date,\n",
    "#           dim_date.quarter,\n",
    "#           dim_date.year,\n",
    "#           events_data.activity_id,\n",
    "#           activities.name,\n",
    "#           events_context.os_name,\n",
    "#           dim_country.country_name;\n",
    "\n"
   ]
  },
  {
   "cell_type": "code",
   "execution_count": 0,
   "metadata": {
    "application/vnd.databricks.v1+cell": {
     "cellMetadata": {
      "byteLimit": 2048000,
      "rowLimit": 10000
     },
     "inputWidgets": {},
     "nuid": "080c8ea7-5ea0-49ff-9196-0a61435c8a9d",
     "showTitle": false,
     "tableResultSettingsMap": {},
     "title": ""
    }
   },
   "outputs": [],
   "source": [
    "# We find discrepancies between events activities and activities. There are activities in the events that do not exist in the activities listed"
   ]
  }
 ],
 "metadata": {
  "application/vnd.databricks.v1+notebook": {
   "computePreferences": null,
   "dashboards": [],
   "environmentMetadata": {
    "base_environment": "",
    "environment_version": "3"
   },
   "inputWidgetPreferences": null,
   "language": "python",
   "notebookMetadata": {
    "mostRecentlyExecutedCommandWithImplicitDF": {
     "commandId": 6492317558958937,
     "dataframes": [
      "_sqldf"
     ]
    },
    "pythonIndentUnit": 4
   },
   "notebookName": "Dashboard Ingestion",
   "widgets": {}
  },
  "language_info": {
   "name": "python"
  }
 },
 "nbformat": 4,
 "nbformat_minor": 0
}
