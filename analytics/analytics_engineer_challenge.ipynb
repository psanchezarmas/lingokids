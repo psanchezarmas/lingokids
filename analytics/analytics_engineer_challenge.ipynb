{
 "cells": [
  {
   "cell_type": "markdown",
   "metadata": {
    "application/vnd.databricks.v1+cell": {
     "cellMetadata": {},
     "inputWidgets": {},
     "nuid": "b3d0d8a3-2919-4a57-a07b-86a9f8894c57",
     "showTitle": false,
     "tableResultSettingsMap": {},
     "title": ""
    }
   },
   "source": [
    "### The Challenge\n",
    "\n",
    "1. **Activity completion rate by theme**\n",
    "\n",
    "    Write a SQL query that shows the completion rate for each theme. Completion rate = (completed activities / total activity attempts) * 100.\n",
    "\n",
    "2. **Premium vs Free Content engagement**\n",
    "\n",
    "    Write a SQL query that compares average session duration between free and premium activities, showing the count of sessions and average duration for each price tier.\n",
    "3. **User subscription impact**\n",
    "\n",
    "\n",
    "   Write a SQL query that shows, for each platform, the average number of activities completed per user in the 7 days before vs 7 days after their subscription date. Only include users who subscribed in January 2025.\n",
    "\n"
   ]
  },
  {
   "cell_type": "code",
   "execution_count": 0,
   "metadata": {
    "application/vnd.databricks.v1+cell": {
     "cellMetadata": {
      "byteLimit": 2048000,
      "implicitDf": true,
      "rowLimit": 10000
     },
     "inputWidgets": {},
     "nuid": "a1ab0492-8c63-4434-a588-bfc2251cda52",
     "showTitle": false,
     "tableResultSettingsMap": {},
     "title": ""
    }
   },
   "outputs": [],
   "source": [
    "%sql\n",
    "\n",
    "-- Activity completion rate by theme\n",
    "select \n",
    "  activities.theme,\n",
    "  (sum(CASE WHEN activity_events.completed = TRUE THEN 1 else 0 END) /  count(distinct activity_events.event_id)) as completion_rate\n",
    "from\n",
    "  lingokids.analytics_engineer.activity_events\n",
    "left join lingokids.analytics_engineer.activities\n",
    "  on activity_events.activity_id = activities.activity_id\n",
    "where event_type = 'activity_exit'\n",
    "group by activities.theme"
   ]
  },
  {
   "cell_type": "code",
   "execution_count": 0,
   "metadata": {
    "application/vnd.databricks.v1+cell": {
     "cellMetadata": {
      "byteLimit": 2048000,
      "implicitDf": true,
      "rowLimit": 10000
     },
     "inputWidgets": {},
     "nuid": "d1fbc2c3-5fe7-486a-8bb6-9de1b77b6e3d",
     "showTitle": false,
     "tableResultSettingsMap": {
      "0": {
       "dataGridStateBlob": "{\"version\":1,\"tableState\":{\"columnPinning\":{\"left\":[\"#row_number#\"],\"right\":[]},\"columnSizing\":{},\"columnVisibility\":{}},\"settings\":{\"columns\":{}},\"syncTimestamp\":1759822470293}",
       "filterBlob": null,
       "queryPlanFiltersBlob": null,
       "tableResultIndex": 0
      }
     },
     "title": ""
    }
   },
   "outputs": [],
   "source": [
    "%sql\n",
    "\n",
    "--2. **Premium vs Free Content engagement**\n",
    "-- Write a SQL query that compares average session duration between free and premium activities, showing the count of sessions and average duration for each price tier.\n",
    "\n",
    "select\n",
    "  price_tier,\n",
    "  count(distinct event_id) count_of_sessions,\n",
    "  avg(duration_seconds) avg_duration_seconds\n",
    "from\n",
    "  lingokids.analytics_engineer.activity_events\n",
    "left join lingokids.analytics_engineer.activities\n",
    "  on activity_events.activity_id = activities.activity_id\n",
    "where event_type = \"activity_exit\"\n",
    "group by price_tier"
   ]
  },
  {
   "cell_type": "code",
   "execution_count": 0,
   "metadata": {
    "application/vnd.databricks.v1+cell": {
     "cellMetadata": {
      "byteLimit": 2048000,
      "implicitDf": true,
      "rowLimit": 10000
     },
     "inputWidgets": {},
     "nuid": "34206cd8-de20-45dc-ac99-78454b35cf3a",
     "showTitle": false,
     "tableResultSettingsMap": {
      "0": {
       "dataGridStateBlob": "{\"version\":1,\"tableState\":{\"columnPinning\":{\"left\":[\"#row_number#\"],\"right\":[]},\"columnSizing\":{\"user_id\":108},\"columnVisibility\":{}},\"settings\":{\"columns\":{}},\"syncTimestamp\":1759837314860}",
       "filterBlob": null,
       "queryPlanFiltersBlob": null,
       "tableResultIndex": 0
      }
     },
     "title": ""
    }
   },
   "outputs": [],
   "source": [
    "%sql\n",
    "\n",
    "-- 3. **User subscription impact**\n",
    "\n",
    "\n",
    "--   Write a SQL query that shows, for each platform, the average number of activities completed per user in the 7 days before vs 7 days after their subscription date. Only include users who subscribed in January 2025.\n",
    "\n",
    "select \n",
    "  summary_plays_user.platform,\n",
    "  avg(before_count) as avg_activities_before_per_user,\n",
    "  avg(after_count) as avg_activities_after_per_user\n",
    "from (\n",
    "  select subscriptions.platform,\n",
    "    subscriptions.user_id,\n",
    "    sum(case \n",
    "              when subscriptions.subscription_date <= activity_events.created_at \n",
    "                and subscriptions.subscription_date >= activity_events.created_at - INTERVAL 7 DAYS then 1\n",
    "              else 0 end) as after_count,\n",
    "    sum(case             \n",
    "              when subscriptions.subscription_date > activity_events.created_at \n",
    "                and subscriptions.subscription_date < activity_events.created_at + INTERVAL 7 DAYS then 1\n",
    "            else 0 end) as before_count,\n",
    "    count(distinct activity_events.event_id)\n",
    "  from\n",
    "    lingokids.analytics_engineer.subscriptions\n",
    "  inner join\n",
    "    lingokids.analytics_engineer.activity_events\n",
    "    on subscriptions.user_id = activity_events.user_id\n",
    "  where month(subscriptions.subscription_date) = 1\n",
    "    and year(subscriptions.subscription_date) = 2025 -- filter only people who subscribed in january 2025\n",
    "    and activity_events.event_type = \"activity_exit\" -- to avoid the duplicity of entering and exit events\n",
    "    and case \n",
    "              when subscriptions.subscription_date <= activity_events.created_at \n",
    "                and subscriptions.subscription_date >= activity_events.created_at - INTERVAL 7 DAYS then 'after'\n",
    "              when subscriptions.subscription_date > activity_events.created_at \n",
    "                and subscriptions.subscription_date < activity_events.created_at + INTERVAL 7 DAYS then 'before'\n",
    "            else 'not applicable' end != 'not applicable' -- we filter out the cases where the subscription date is not in the 7 days before or after the activity event\n",
    "  group by  \n",
    "      subscriptions.platform, \n",
    "      subscriptions.user_id\n",
    "      ) summary_plays_user\n",
    "\n",
    "group by \n",
    "  summary_plays_user.platform\n"
   ]
  },
  {
   "cell_type": "code",
   "execution_count": 0,
   "metadata": {
    "application/vnd.databricks.v1+cell": {
     "cellMetadata": {
      "byteLimit": 2048000,
      "implicitDf": true,
      "rowLimit": 10000
     },
     "inputWidgets": {},
     "nuid": "1b985947-46e8-4d68-9dbc-49bc466a6c41",
     "showTitle": false,
     "tableResultSettingsMap": {
      "0": {
       "dataGridStateBlob": "{\"version\":1,\"tableState\":{\"columnPinning\":{\"left\":[\"#row_number#\"],\"right\":[]},\"columnSizing\":{},\"columnVisibility\":{}},\"settings\":{\"columns\":{}},\"syncTimestamp\":1759837805362}",
       "filterBlob": null,
       "queryPlanFiltersBlob": null,
       "tableResultIndex": 0
      }
     },
     "title": ""
    }
   },
   "outputs": [],
   "source": [
    "%sql\n",
    "\n",
    "select subscriptions.platform,\n",
    "  subscriptions.user_id,\n",
    "  subscriptions.subscription_date,\n",
    "  activity_events.created_at,\n",
    "  case \n",
    "            when subscriptions.subscription_date <= activity_events.created_at \n",
    "              and subscriptions.subscription_date >= activity_events.created_at - INTERVAL 7 DAYS then 'after'\n",
    "               \n",
    "            when subscriptions.subscription_date > activity_events.created_at \n",
    "              and subscriptions.subscription_date < activity_events.created_at + INTERVAL 7 DAYS then 'before'\n",
    "          else 'not applicable' end as whatever,\n",
    "  \n",
    "\n",
    "  sum(case \n",
    "            when subscriptions.subscription_date <= activity_events.created_at \n",
    "              and subscriptions.subscription_date >= activity_events.created_at - INTERVAL 7 DAYS then 1\n",
    "            else 0 end) as after_count,\n",
    "  sum(case             \n",
    "            when subscriptions.subscription_date > activity_events.created_at \n",
    "              and subscriptions.subscription_date < activity_events.created_at + INTERVAL 7 DAYS then 1\n",
    "          else 0 end) as before_count,\n",
    "  count(distinct activity_events.event_id)\n",
    "from\n",
    "  lingokids.analytics_engineer.subscriptions\n",
    "inner join\n",
    "  lingokids.analytics_engineer.activity_events\n",
    "  on subscriptions.user_id = activity_events.user_id\n",
    "where month(subscriptions.subscription_date) = 1\n",
    "  and year(subscriptions.subscription_date) = 2025\n",
    "  and activity_events.event_type = \"activity_exit\" -- to avoid the duplicity of entering and exit events\n",
    "  and case \n",
    "            when subscriptions.subscription_date <= activity_events.created_at \n",
    "              and subscriptions.subscription_date >= activity_events.created_at - INTERVAL 7 DAYS then 'after'\n",
    "            when subscriptions.subscription_date > activity_events.created_at \n",
    "              and subscriptions.subscription_date < activity_events.created_at + INTERVAL 7 DAYS then 'before'\n",
    "          else 'not applicable' end != 'not applicable' -- we filter out the cases where the subscription date is not in the 7 days before or after the activity event\n",
    "group by  \n",
    "    subscriptions.platform, \n",
    "    subscriptions.user_id,\n",
    "      case \n",
    "            when subscriptions.subscription_date <= activity_events.created_at \n",
    "              and subscriptions.subscription_date >= activity_events.created_at - INTERVAL 7 DAYS then 'after'\n",
    "               \n",
    "            when subscriptions.subscription_date > activity_events.created_at \n",
    "              and subscriptions.subscription_date < activity_events.created_at + INTERVAL 7 DAYS then 'before'\n",
    "          else 'not applicable' end,\n",
    "    subscriptions.subscription_date,\n",
    "    activity_events.created_at    \n"
   ]
  }
 ],
 "metadata": {
  "application/vnd.databricks.v1+notebook": {
   "computePreferences": null,
   "dashboards": [],
   "environmentMetadata": {
    "base_environment": "",
    "environment_version": "3"
   },
   "inputWidgetPreferences": null,
   "language": "python",
   "notebookMetadata": {
    "mostRecentlyExecutedCommandWithImplicitDF": {
     "commandId": 6644544371902437,
     "dataframes": [
      "_sqldf"
     ]
    },
    "pythonIndentUnit": 4
   },
   "notebookName": "analytics_engineer_challenge",
   "widgets": {}
  },
  "language_info": {
   "name": "python"
  }
 },
 "nbformat": 4,
 "nbformat_minor": 0
}
